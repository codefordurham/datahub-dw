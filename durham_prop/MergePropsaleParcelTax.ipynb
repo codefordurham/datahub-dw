{
 "cells": [
  {
   "cell_type": "code",
   "execution_count": 1,
   "metadata": {
    "collapsed": true
   },
   "outputs": [],
   "source": [
    "import pandas as pd\n",
    "import sys\n",
    "pd.options.display.max_columns = None\n",
    "pd.options.display.max_colwidth = 100"
   ]
  },
  {
   "cell_type": "code",
   "execution_count": 2,
   "metadata": {},
   "outputs": [],
   "source": [
    "def mergepropsaleparceltax(years):\n",
    "    if years == '9800':\n",
    "        propsaleparcels = pd.read_csv('propsaleparcelsdec_9800_bgs.csv')\n",
    "        propsaletax = pd.read_csv('propsalesstatsbgs0019980101-20001231.csv')\n",
    "        outfilename = '../affordablehousing_data/propsalesdec_9800_bgs.csv'\n",
    "        columns = [propsaletax.columns[1],propsaletax.columns[2],propsaletax.columns[3],propsaletax.columns[4],\n",
    "                   propsaletax.columns[5],propsaletax.columns[6],propsaletax.columns[7],propsaleparcels.columns[8],\n",
    "                   'pir'+years,propsaleparcels.columns[10],propsaleparcels.columns[11]]\n",
    "        geoid = 'geoid00'\n",
    "    elif years == '1314':\n",
    "        propsaleparcels = pd.read_csv('propsaleparcelscompass_1314_bgs.csv')\n",
    "        propsaletax = pd.read_csv('propsalesstatsbgs20130101-20141231.csv')\n",
    "        outfilename = '../affordablehousing_data/propsalescompass_1314_bgs.csv'\n",
    "        columns = [propsaletax.columns[1],propsaletax.columns[2],propsaletax.columns[3],propsaletax.columns[4],\n",
    "                   propsaletax.columns[5],propsaletax.columns[6],propsaletax.columns[7],propsaleparcels.columns[8],\n",
    "                   'pir'+years]\n",
    "        geoid = 'geoid10'\n",
    "    elif years == '1517':\n",
    "        propsaleparcels = pd.read_csv('propsaleparcelsacs_1517_bgs.csv')\n",
    "        propsaletax = pd.read_csv('propsalesstatsbgs20150101-20171231.csv') \n",
    "        outfilename = '../affordablehousing_data/propsalesacs_1517_bgs.csv'\n",
    "        columns = [propsaletax.columns[1],propsaletax.columns[2],propsaletax.columns[3],propsaletax.columns[4],\n",
    "                   propsaletax.columns[5],propsaletax.columns[6],propsaletax.columns[7],propsaleparcels.columns[8],\n",
    "                   'pir'+years,propsaleparcels.columns[10],propsaleparcels.columns[11]]\n",
    "        geoid = 'geoid10'\n",
    "\n",
    "    else:\n",
    "        sys.exit('Incorrect years value')\n",
    "\n",
    "    if sum(propsaletax[geoid].values-propsaleparcels.id.values) == 0.0:\n",
    "        if len(propsaletax[geoid].values) == len(propsaleparcels.id.values):\n",
    "            propsalemerged = pd.DataFrame(propsaletax[geoid].values,columns=['id'])\n",
    "        else:\n",
    "            propsalemerged = pd.DataFrame(columns=['id'])\n",
    "            sys.exit('Data lengths are different')\n",
    "    else:\n",
    "        propsalemerged = pd.DataFrame(columns=['id'])\n",
    "        sys.exit('Data values are different')\n",
    "    \n",
    "    for column in columns:\n",
    "        if column == 'pir'+years:\n",
    "            pir = propsaletax[columns[3]].values/propsaleparcels[columns[7]].values\n",
    "            propsalemerged[column] = pir\n",
    "        elif column[len(column)-6:len(column)-4] == 'sp':\n",
    "            propsalemerged[column] = propsaletax[column].values\n",
    "        elif column[len(column)-6:len(column)-4] == 'ms':\n",
    "            propsalemerged[column] = propsaletax[column].values\n",
    "        else:\n",
    "            propsalemerged[column] = propsaleparcels[column].values\n",
    "\n",
    "    propsalemerged.to_csv(outfilename,index=False)"
   ]
  },
  {
   "cell_type": "code",
   "execution_count": 3,
   "metadata": {},
   "outputs": [],
   "source": [
    "mergepropsaleparceltax('9800')\n",
    "mergepropsaleparceltax('1314')\n",
    "mergepropsaleparceltax('1517')"
   ]
  }
 ],
 "metadata": {
  "kernelspec": {
   "display_name": "Python 3",
   "language": "python",
   "name": "python3"
  },
  "language_info": {
   "codemirror_mode": {
    "name": "ipython",
    "version": 3
   },
   "file_extension": ".py",
   "mimetype": "text/x-python",
   "name": "python",
   "nbconvert_exporter": "python",
   "pygments_lexer": "ipython3",
   "version": "3.6.4"
  }
 },
 "nbformat": 4,
 "nbformat_minor": 2
}
