{
 "cells": [
  {
   "cell_type": "code",
   "execution_count": 1,
   "metadata": {
    "collapsed": true
   },
   "outputs": [],
   "source": [
    "import pandas as pd\n",
    "import numpy as np\n",
    "pd.options.display.max_columns = None\n",
    "pd.options.display.max_colwidth = 100\n",
    "import extractmm as exmm\n",
    "import matplotlib.pyplot as plt\n",
    "%matplotlib inline"
   ]
  },
  {
   "cell_type": "code",
   "execution_count": 2,
   "metadata": {},
   "outputs": [
    {
     "data": {
      "text/html": [
       "<div>\n",
       "<style>\n",
       "    .dataframe thead tr:only-child th {\n",
       "        text-align: right;\n",
       "    }\n",
       "\n",
       "    .dataframe thead th {\n",
       "        text-align: left;\n",
       "    }\n",
       "\n",
       "    .dataframe tbody tr th {\n",
       "        vertical-align: top;\n",
       "    }\n",
       "</style>\n",
       "<table border=\"1\" class=\"dataframe\">\n",
       "  <thead>\n",
       "    <tr style=\"text-align: right;\">\n",
       "      <th></th>\n",
       "      <th>singlefamily_2018</th>\n",
       "      <th>singlefamily_2000</th>\n",
       "      <th>two2four_2018</th>\n",
       "      <th>two2four_2000</th>\n",
       "      <th>townhouse_2018</th>\n",
       "      <th>townhouse_2000</th>\n",
       "      <th>condo_2018</th>\n",
       "      <th>condo_2000</th>\n",
       "      <th>multidwg_2018</th>\n",
       "      <th>multidwg_2000</th>\n",
       "      <th>aprtmt_2018</th>\n",
       "      <th>aprtmt_2000</th>\n",
       "      <th>vacant_2018</th>\n",
       "      <th>vacant_2000</th>\n",
       "    </tr>\n",
       "  </thead>\n",
       "  <tbody>\n",
       "    <tr>\n",
       "      <th>0</th>\n",
       "      <td>70573</td>\n",
       "      <td>52606</td>\n",
       "      <td>1996</td>\n",
       "      <td>2192</td>\n",
       "      <td>8964</td>\n",
       "      <td>3870</td>\n",
       "      <td>2732</td>\n",
       "      <td>58</td>\n",
       "      <td>224</td>\n",
       "      <td>20</td>\n",
       "      <td>745</td>\n",
       "      <td>730</td>\n",
       "      <td>14433</td>\n",
       "      <td>13729</td>\n",
       "    </tr>\n",
       "  </tbody>\n",
       "</table>\n",
       "</div>"
      ],
      "text/plain": [
       "   singlefamily_2018  singlefamily_2000  two2four_2018  two2four_2000  \\\n",
       "0              70573              52606           1996           2192   \n",
       "\n",
       "   townhouse_2018  townhouse_2000  condo_2018  condo_2000  multidwg_2018  \\\n",
       "0            8964            3870        2732          58            224   \n",
       "\n",
       "   multidwg_2000  aprtmt_2018  aprtmt_2000  vacant_2018  vacant_2000  \n",
       "0             20          745          730        14433        13729  "
      ]
     },
     "execution_count": 2,
     "metadata": {},
     "output_type": "execute_result"
    }
   ],
   "source": [
    "singlefamily = pd.merge(exmm.extractmissingmiddle('011818','singlefamily'),\n",
    "                    exmm.extractmissingmiddle('2001','singlefamily'),left_index=True,right_index=True)\n",
    "\n",
    "two2four = pd.merge(exmm.extractmissingmiddle('011818','two2four'),\n",
    "                    exmm.extractmissingmiddle('2001','two2four'),left_index=True,right_index=True)\n",
    "townhouse = pd.merge(exmm.extractmissingmiddle('011818','townhouse'),\n",
    "                    exmm.extractmissingmiddle('2001','townhouse'),left_index=True,right_index=True)\n",
    "condo = pd.merge(exmm.extractmissingmiddle('011818','condo'),\n",
    "                    exmm.extractmissingmiddle('2001','condo'),left_index=True,right_index=True)\n",
    "multidwg = pd.merge(exmm.extractmissingmiddle('011818','multidwg'),\n",
    "                    exmm.extractmissingmiddle('2001','multidwg'),left_index=True,right_index=True)\n",
    "aprtmt = pd.merge(exmm.extractmissingmiddle('011818','aprtmt'),\n",
    "                    exmm.extractmissingmiddle('2001','aprtmt'),left_index=True,right_index=True)\n",
    "vacant = pd.merge(exmm.extractmissingmiddle('011818','vacant'),\n",
    "                    exmm.extractmissingmiddle('2001','vacant'),left_index=True,right_index=True)\n",
    "\n",
    "housecount = pd.merge(pd.merge(singlefamily,two2four,left_index=True,right_index=True),\n",
    "                      pd.merge(townhouse,condo,left_index=True,right_index=True),\n",
    "                      left_index=True,right_index=True)\n",
    "housecount = pd.merge(pd.merge(housecount,multidwg,left_index=True,right_index=True),\n",
    "                      pd.merge(aprtmt,vacant,left_index=True,right_index=True),\n",
    "                      left_index=True,right_index=True)\n",
    "housecount.to_csv('missingmiddle.csv',index=False)\n",
    "housecount"
   ]
  },
  {
   "cell_type": "code",
   "execution_count": 3,
   "metadata": {},
   "outputs": [
    {
     "data": {
      "text/html": [
       "<div>\n",
       "<style>\n",
       "    .dataframe thead tr:only-child th {\n",
       "        text-align: right;\n",
       "    }\n",
       "\n",
       "    .dataframe thead th {\n",
       "        text-align: left;\n",
       "    }\n",
       "\n",
       "    .dataframe tbody tr th {\n",
       "        vertical-align: top;\n",
       "    }\n",
       "</style>\n",
       "<table border=\"1\" class=\"dataframe\">\n",
       "  <thead>\n",
       "    <tr style=\"text-align: right;\">\n",
       "      <th></th>\n",
       "      <th>singlefamily0018</th>\n",
       "      <th>two2four0018</th>\n",
       "      <th>townhouse0018</th>\n",
       "      <th>condo0018</th>\n",
       "      <th>multidwg0018</th>\n",
       "      <th>aprtmt0018</th>\n",
       "      <th>vacant0018</th>\n",
       "    </tr>\n",
       "  </thead>\n",
       "  <tbody>\n",
       "    <tr>\n",
       "      <th>0</th>\n",
       "      <td>25.458745</td>\n",
       "      <td>-9.819639</td>\n",
       "      <td>56.827309</td>\n",
       "      <td>97.877013</td>\n",
       "      <td>91.071429</td>\n",
       "      <td>2.013423</td>\n",
       "      <td>4.877711</td>\n",
       "    </tr>\n",
       "  </tbody>\n",
       "</table>\n",
       "</div>"
      ],
      "text/plain": [
       "   singlefamily0018  two2four0018  townhouse0018  condo0018  multidwg0018  \\\n",
       "0         25.458745     -9.819639      56.827309  97.877013     91.071429   \n",
       "\n",
       "   aprtmt0018  vacant0018  \n",
       "0    2.013423    4.877711  "
      ]
     },
     "execution_count": 3,
     "metadata": {},
     "output_type": "execute_result"
    }
   ],
   "source": [
    "houseprcchng = pd.DataFrame()\n",
    "houseprcchng['singlefamily0018'] = 100.0-((housecount.singlefamily_2000/housecount.singlefamily_2018)*100)\n",
    "houseprcchng['two2four0018'] = 100.0-((housecount.two2four_2000/housecount.two2four_2018)*100)\n",
    "houseprcchng['townhouse0018'] = 100.0-((housecount.townhouse_2000/housecount.townhouse_2018)*100)\n",
    "houseprcchng['condo0018'] = 100.0-((housecount.condo_2000/housecount.condo_2018)*100)\n",
    "houseprcchng['multidwg0018'] = 100.0-((housecount.multidwg_2000/housecount.multidwg_2018)*100)\n",
    "houseprcchng['aprtmt0018'] = 100.0-((housecount.aprtmt_2000/housecount.aprtmt_2018)*100)\n",
    "houseprcchng['vacant0018'] = 100.0-((housecount.vacant_2000/housecount.vacant_2018)*100)\n",
    "houseprcchng"
   ]
  },
  {
   "cell_type": "code",
   "execution_count": 4,
   "metadata": {},
   "outputs": [
    {
     "data": {
      "text/plain": [
       "<Figure size 432x288 with 0 Axes>"
      ]
     },
     "metadata": {},
     "output_type": "display_data"
    },
    {
     "data": {
      "image/png": "[encoded data removed]",
      "text/plain": [
       "<Figure size 432x288 with 1 Axes>"
      ]
     },
     "metadata": {},
     "output_type": "display_data"
    }
   ],
   "source": [
    "plt.figure();\n",
    "houseprcchng.plot(kind='bar',title='Percent Change in Housing Type Between 2000 and 2018');\n",
    "plt.savefig('houseprcchng.png')"
   ]
  },
  {
   "cell_type": "code",
   "execution_count": 5,
   "metadata": {
    "collapsed": true
   },
   "outputs": [],
   "source": [
    "def color_negative_red(val):\n",
    "    \"\"\"\n",
    "    Takes a scalar and returns a string with\n",
    "    the css property `'color: red'` for negative\n",
    "    strings, black otherwise.\n",
    "    \"\"\"\n",
    "    color = 'red' if val < 0 else 'black'\n",
    "    return 'color: %s' % color"
   ]
  },
  {
   "cell_type": "code",
   "execution_count": 6,
   "metadata": {},
   "outputs": [
    {
     "data": {
      "text/html": [
       "<style  type=\"text/css\" >\n",
       "    #T_b4bfb310_8f94_11e8_98a6_0c8bfd258e0brow0_col0 {\n",
       "            color:  black;\n",
       "        }    #T_b4bfb310_8f94_11e8_98a6_0c8bfd258e0brow0_col1 {\n",
       "            color:  red;\n",
       "        }    #T_b4bfb310_8f94_11e8_98a6_0c8bfd258e0brow0_col2 {\n",
       "            color:  black;\n",
       "        }    #T_b4bfb310_8f94_11e8_98a6_0c8bfd258e0brow0_col3 {\n",
       "            color:  black;\n",
       "        }    #T_b4bfb310_8f94_11e8_98a6_0c8bfd258e0brow0_col4 {\n",
       "            color:  black;\n",
       "        }    #T_b4bfb310_8f94_11e8_98a6_0c8bfd258e0brow0_col5 {\n",
       "            color:  black;\n",
       "        }    #T_b4bfb310_8f94_11e8_98a6_0c8bfd258e0brow0_col6 {\n",
       "            color:  black;\n",
       "        }</style>  \n",
       "<table id=\"T_b4bfb310_8f94_11e8_98a6_0c8bfd258e0b\" > \n",
       "<thead>    <tr> \n",
       "        <th class=\"blank level0\" ></th> \n",
       "        <th class=\"col_heading level0 col0\" >singlefamily0018</th> \n",
       "        <th class=\"col_heading level0 col1\" >two2four0018</th> \n",
       "        <th class=\"col_heading level0 col2\" >townhouse0018</th> \n",
       "        <th class=\"col_heading level0 col3\" >condo0018</th> \n",
       "        <th class=\"col_heading level0 col4\" >multidwg0018</th> \n",
       "        <th class=\"col_heading level0 col5\" >aprtmt0018</th> \n",
       "        <th class=\"col_heading level0 col6\" >vacant0018</th> \n",
       "    </tr></thead> \n",
       "<tbody>    <tr> \n",
       "        <th id=\"T_b4bfb310_8f94_11e8_98a6_0c8bfd258e0b\" class=\"row_heading level0 row0\" >0</th> \n",
       "        <td id=\"T_b4bfb310_8f94_11e8_98a6_0c8bfd258e0brow0_col0\" class=\"data row0 col0\" >25.4587</td> \n",
       "        <td id=\"T_b4bfb310_8f94_11e8_98a6_0c8bfd258e0brow0_col1\" class=\"data row0 col1\" >-9.81964</td> \n",
       "        <td id=\"T_b4bfb310_8f94_11e8_98a6_0c8bfd258e0brow0_col2\" class=\"data row0 col2\" >56.8273</td> \n",
       "        <td id=\"T_b4bfb310_8f94_11e8_98a6_0c8bfd258e0brow0_col3\" class=\"data row0 col3\" >97.877</td> \n",
       "        <td id=\"T_b4bfb310_8f94_11e8_98a6_0c8bfd258e0brow0_col4\" class=\"data row0 col4\" >91.0714</td> \n",
       "        <td id=\"T_b4bfb310_8f94_11e8_98a6_0c8bfd258e0brow0_col5\" class=\"data row0 col5\" >2.01342</td> \n",
       "        <td id=\"T_b4bfb310_8f94_11e8_98a6_0c8bfd258e0brow0_col6\" class=\"data row0 col6\" >4.87771</td> \n",
       "    </tr></tbody> \n",
       "</table> "
      ],
      "text/plain": [
       "<pandas.io.formats.style.Styler at 0x7f10cd08e978>"
      ]
     },
     "execution_count": 6,
     "metadata": {},
     "output_type": "execute_result"
    }
   ],
   "source": [
    "houseprcchng.style.applymap(color_negative_red)"
   ]
  },
  {
   "cell_type": "code",
   "execution_count": 7,
   "metadata": {
    "collapsed": true
   },
   "outputs": [],
   "source": [
    "housecount.index.name = 'Dwelling Type'"
   ]
  },
  {
   "cell_type": "code",
   "execution_count": 8,
   "metadata": {},
   "outputs": [
    {
     "data": {
      "text/html": [
       "<div>\n",
       "<style>\n",
       "    .dataframe thead tr:only-child th {\n",
       "        text-align: right;\n",
       "    }\n",
       "\n",
       "    .dataframe thead th {\n",
       "        text-align: left;\n",
       "    }\n",
       "\n",
       "    .dataframe tbody tr th {\n",
       "        vertical-align: top;\n",
       "    }\n",
       "</style>\n",
       "<table border=\"1\" class=\"dataframe\">\n",
       "  <thead>\n",
       "    <tr style=\"text-align: right;\">\n",
       "      <th>Dwelling Type</th>\n",
       "      <th>Number</th>\n",
       "    </tr>\n",
       "  </thead>\n",
       "  <tbody>\n",
       "    <tr>\n",
       "      <th>singlefamily_2018</th>\n",
       "      <td>70573</td>\n",
       "    </tr>\n",
       "    <tr>\n",
       "      <th>singlefamily_2000</th>\n",
       "      <td>52606</td>\n",
       "    </tr>\n",
       "    <tr>\n",
       "      <th>two2four_2018</th>\n",
       "      <td>1996</td>\n",
       "    </tr>\n",
       "    <tr>\n",
       "      <th>two2four_2000</th>\n",
       "      <td>2192</td>\n",
       "    </tr>\n",
       "    <tr>\n",
       "      <th>townhouse_2018</th>\n",
       "      <td>8964</td>\n",
       "    </tr>\n",
       "    <tr>\n",
       "      <th>townhouse_2000</th>\n",
       "      <td>3870</td>\n",
       "    </tr>\n",
       "    <tr>\n",
       "      <th>condo_2018</th>\n",
       "      <td>2732</td>\n",
       "    </tr>\n",
       "    <tr>\n",
       "      <th>condo_2000</th>\n",
       "      <td>58</td>\n",
       "    </tr>\n",
       "    <tr>\n",
       "      <th>multidwg_2018</th>\n",
       "      <td>224</td>\n",
       "    </tr>\n",
       "    <tr>\n",
       "      <th>multidwg_2000</th>\n",
       "      <td>20</td>\n",
       "    </tr>\n",
       "    <tr>\n",
       "      <th>aprtmt_2018</th>\n",
       "      <td>745</td>\n",
       "    </tr>\n",
       "    <tr>\n",
       "      <th>aprtmt_2000</th>\n",
       "      <td>730</td>\n",
       "    </tr>\n",
       "    <tr>\n",
       "      <th>vacant_2018</th>\n",
       "      <td>14433</td>\n",
       "    </tr>\n",
       "    <tr>\n",
       "      <th>vacant_2000</th>\n",
       "      <td>13729</td>\n",
       "    </tr>\n",
       "  </tbody>\n",
       "</table>\n",
       "</div>"
      ],
      "text/plain": [
       "Dwelling Type      Number\n",
       "singlefamily_2018   70573\n",
       "singlefamily_2000   52606\n",
       "two2four_2018        1996\n",
       "two2four_2000        2192\n",
       "townhouse_2018       8964\n",
       "townhouse_2000       3870\n",
       "condo_2018           2732\n",
       "condo_2000             58\n",
       "multidwg_2018         224\n",
       "multidwg_2000          20\n",
       "aprtmt_2018           745\n",
       "aprtmt_2000           730\n",
       "vacant_2018         14433\n",
       "vacant_2000         13729"
      ]
     },
     "execution_count": 8,
     "metadata": {},
     "output_type": "execute_result"
    }
   ],
   "source": [
    "housecount.rename(index={0: 'Number'}).transpose()"
   ]
  },
  {
   "cell_type": "code",
   "execution_count": null,
   "metadata": {
    "collapsed": true
   },
   "outputs": [],
   "source": []
  }
 ],
 "metadata": {
  "kernelspec": {
   "display_name": "Python 3",
   "language": "python",
   "name": "python3"
  },
  "language_info": {
   "codemirror_mode": {
    "name": "ipython",
    "version": 3
   },
   "file_extension": ".py",
   "mimetype": "text/x-python",
   "name": "python",
   "nbconvert_exporter": "python",
   "pygments_lexer": "ipython3",
   "version": "3.6.4"
  }
 },
 "nbformat": 4,
 "nbformat_minor": 2
}
